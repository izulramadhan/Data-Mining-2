{
 "cells": [
  {
   "cell_type": "markdown",
   "metadata": {},
   "source": [
    "# Import Required Libraries\n",
    "Import the necessary libraries, including pandas, numpy, matplotlib, seaborn, and scikit-learn."
   ]
  },
  {
   "cell_type": "code",
   "execution_count": null,
   "metadata": {},
   "outputs": [],
   "source": [
    "import pandas as pd\n",
    "import numpy as np\n",
    "import matplotlib.pyplot as plt\n",
    "import seaborn as sns\n",
    "from sklearn.model_selection import train_test_split\n",
    "from sklearn.preprocessing import StandardScaler\n",
    "from sklearn.linear_model import LogisticRegression\n",
    "from sklearn.metrics import classification_report, confusion_matrix"
   ]
  },
  {
   "cell_type": "markdown",
   "metadata": {},
   "source": [
    "# Load the Dataset\n",
    "Load the patient diagnosis dataset containing ICD-10 codes."
   ]
  },
  {
   "cell_type": "code",
   "execution_count": null,
   "metadata": {},
   "outputs": [],
   "source": [
    "# Load the Dataset\n",
    "\n",
    "# Load the patient diagnosis dataset containing ICD-10 codes\n",
    "file_path = 'patient_icd10.csv'  # Replace with your actual file path\n",
    "df = pd.read_csv(file_path)\n",
    "\n",
    "# Display the first few rows of the dataset to verify loading\n",
    "df.head()"
   ]
  },
  {
   "cell_type": "markdown",
   "metadata": {},
   "source": [
    "# Data Preprocessing\n",
    "Clean the dataset by handling missing values, encoding categorical variables, and normalizing numerical features."
   ]
  },
  {
   "cell_type": "code",
   "execution_count": null,
   "metadata": {},
   "outputs": [],
   "source": [
    "# Data Preprocessing\n",
    "\n",
    "# Handle missing values\n",
    "df.fillna(method='ffill', inplace=True)  # Forward fill to handle missing values\n",
    "\n",
    "# Encode categorical variables\n",
    "categorical_columns = df.select_dtypes(include=['object']).columns\n",
    "df_encoded = pd.get_dummies(df, columns=categorical_columns, drop_first=True)\n",
    "\n",
    "# Normalize numerical features\n",
    "numerical_columns = df.select_dtypes(include=[np.number]).columns\n",
    "scaler = StandardScaler()\n",
    "df_encoded[numerical_columns] = scaler.fit_transform(df_encoded[numerical_columns])\n",
    "\n",
    "# Display the first few rows of the preprocessed dataset\n",
    "df_encoded.head()"
   ]
  },
  {
   "cell_type": "markdown",
   "metadata": {},
   "source": [
    "# Exploratory Data Analysis\n",
    "Perform exploratory data analysis to understand the distribution of ICD-10 codes and other relevant features."
   ]
  },
  {
   "cell_type": "code",
   "execution_count": null,
   "metadata": {},
   "outputs": [],
   "source": [
    "# Exploratory Data Analysis\n",
    "\n",
    "# Distribution of ICD-10 codes\n",
    "plt.figure(figsize=(12, 6))\n",
    "sns.countplot(y='ICD-10 Code', data=df, order=df['ICD-10 Code'].value_counts().index)\n",
    "plt.title('Distribution of ICD-10 Codes')\n",
    "plt.xlabel('Count')\n",
    "plt.ylabel('ICD-10 Code')\n",
    "plt.show()\n",
    "\n",
    "# Distribution of numerical features\n",
    "df[numerical_columns].hist(bins=15, figsize=(15, 6), layout=(2, 4))\n",
    "plt.suptitle('Distribution of Numerical Features')\n",
    "plt.show()\n",
    "\n",
    "# Correlation heatmap\n",
    "plt.figure(figsize=(12, 8))\n",
    "correlation_matrix = df_encoded.corr()\n",
    "sns.heatmap(correlation_matrix, annot=True, fmt='.2f', cmap='coolwarm')\n",
    "plt.title('Correlation Heatmap')\n",
    "plt.show()\n",
    "\n",
    "# Pairplot of numerical features\n",
    "sns.pairplot(df[numerical_columns])\n",
    "plt.suptitle('Pairplot of Numerical Features', y=1.02)\n",
    "plt.show()\n",
    "\n",
    "# Summary statistics\n",
    "summary_stats = df.describe()\n",
    "summary_stats"
   ]
  },
  {
   "cell_type": "markdown",
   "metadata": {},
   "source": [
    "# Data Visualization\n",
    "Create visualizations to illustrate the patterns and trends in the diagnosis data using matplotlib and seaborn."
   ]
  },
  {
   "cell_type": "code",
   "execution_count": null,
   "metadata": {},
   "outputs": [],
   "source": [
    "# Data Visualization\n",
    "\n",
    "# Bar plot of the top 10 most frequent ICD-10 codes\n",
    "top_10_icd10 = df['ICD-10 Code'].value_counts().head(10)\n",
    "plt.figure(figsize=(10, 6))\n",
    "sns.barplot(x=top_10_icd10.values, y=top_10_icd10.index, palette='viridis')\n",
    "plt.title('Top 10 Most Frequent ICD-10 Codes')\n",
    "plt.xlabel('Count')\n",
    "plt.ylabel('ICD-10 Code')\n",
    "plt.show()\n",
    "\n",
    "# Box plot of numerical features grouped by a specific ICD-10 code\n",
    "specific_icd10 = 'A00'  # Replace with the ICD-10 code of interest\n",
    "plt.figure(figsize=(12, 6))\n",
    "sns.boxplot(x='ICD-10 Code', y='Age', data=df[df['ICD-10 Code'] == specific_icd10])\n",
    "plt.title(f'Box Plot of Age for ICD-10 Code {specific_icd10}')\n",
    "plt.xlabel('ICD-10 Code')\n",
    "plt.ylabel('Age')\n",
    "plt.show()\n",
    "\n",
    "# Line plot of the number of diagnoses over time\n",
    "if 'Date' in df.columns:\n",
    "    df['Date'] = pd.to_datetime(df['Date'])\n",
    "    diagnoses_over_time = df.groupby(df['Date'].dt.to_period('M')).size()\n",
    "    plt.figure(figsize=(12, 6))\n",
    "    diagnoses_over_time.plot(kind='line')\n",
    "    plt.title('Number of Diagnoses Over Time')\n",
    "    plt.xlabel('Date')\n",
    "    plt.ylabel('Number of Diagnoses')\n",
    "    plt.show()\n",
    "\n",
    "# Heatmap of the frequency of ICD-10 codes by age group\n",
    "age_bins = [0, 18, 35, 50, 65, 80, 100]\n",
    "df['Age Group'] = pd.cut(df['Age'], bins=age_bins)\n",
    "icd10_age_group = pd.crosstab(df['ICD-10 Code'], df['Age Group'])\n",
    "plt.figure(figsize=(12, 8))\n",
    "sns.heatmap(icd10_age_group, cmap='YlGnBu', annot=True, fmt='d')\n",
    "plt.title('Frequency of ICD-10 Codes by Age Group')\n",
    "plt.xlabel('Age Group')\n",
    "plt.ylabel('ICD-10 Code')\n",
    "plt.show()\n",
    "\n",
    "# Scatter plot of two numerical features colored by ICD-10 code\n",
    "plt.figure(figsize=(10, 6))\n",
    "sns.scatterplot(x='Feature1', y='Feature2', hue='ICD-10 Code', data=df, palette='tab10')\n",
    "plt.title('Scatter Plot of Feature1 vs Feature2 Colored by ICD-10 Code')\n",
    "plt.xlabel('Feature1')\n",
    "plt.ylabel('Feature2')\n",
    "plt.legend(loc='best')\n",
    "plt.show()"
   ]
  },
  {
   "cell_type": "markdown",
   "metadata": {},
   "source": [
    "# Model Training and Evaluation\n",
    "Train machine learning models to predict patient outcomes based on ICD-10 codes and evaluate their performance."
   ]
  },
  {
   "cell_type": "code",
   "execution_count": null,
   "metadata": {},
   "outputs": [],
   "source": [
    "# Model Training and Evaluation\n",
    "\n",
    "# Define the target variable and features\n",
    "X = df_encoded.drop('Outcome', axis=1)  # Replace 'Outcome' with the actual target column name\n",
    "y = df_encoded['Outcome']\n",
    "\n",
    "# Split the dataset into training and testing sets\n",
    "X_train, X_test, y_train, y_test = train_test_split(X, y, test_size=0.2, random_state=42)\n",
    "\n",
    "# Train a Logistic Regression model\n",
    "log_reg = LogisticRegression()\n",
    "log_reg.fit(X_train, y_train)\n",
    "\n",
    "# Predict the outcomes on the test set\n",
    "y_pred = log_reg.predict(X_test)\n",
    "\n",
    "# Evaluate the model performance\n",
    "conf_matrix = confusion_matrix(y_test, y_pred)\n",
    "class_report = classification_report(y_test, y_pred)\n",
    "\n",
    "# Display the confusion matrix\n",
    "plt.figure(figsize=(8, 6))\n",
    "sns.heatmap(conf_matrix, annot=True, fmt='d', cmap='Blues')\n",
    "plt.title('Confusion Matrix')\n",
    "plt.xlabel('Predicted')\n",
    "plt.ylabel('Actual')\n",
    "plt.show()\n",
    "\n",
    "# Print the classification report\n",
    "print('Classification Report:')\n",
    "print(class_report)"
   ]
  }
 ],
 "metadata": {
  "kernelspec": {
   "display_name": "Python 3",
   "language": "python",
   "name": "python3"
  },
  "language_info": {
   "name": "python",
   "version": "3.10.12"
  }
 },
 "nbformat": 4,
 "nbformat_minor": 2
}
